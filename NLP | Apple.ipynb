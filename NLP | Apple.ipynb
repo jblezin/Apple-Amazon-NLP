{
  "nbformat": 4,
  "nbformat_minor": 0,
  "metadata": {
    "colab": {
      "name": "Apple | NLP.ipynb",
      "provenance": [],
      "collapsed_sections": []
    },
    "kernelspec": {
      "name": "python3",
      "display_name": "Python 3"
    }
  },
  "cells": [
    {
      "cell_type": "code",
      "metadata": {
        "id": "lgox0lcVzPzF"
      },
      "source": [
        "#Load libraries essential for NLP \n",
        "import pandas as pd\n",
        "import datetime\n",
        "import numpy as np\n",
        "import matplotlib.pyplot as plt\n",
        "%matplotlib inline\n",
        "import seaborn as sns\n",
        "\n",
        "\n",
        "from sklearn.feature_extraction.text import CountVectorizer \n",
        "from sklearn.decomposition import TruncatedSVD\n",
        "from sklearn.decomposition import NMF\n",
        "\n",
        "from IPython.core.interactiveshell import InteractiveShell\n",
        "InteractiveShell.ast_node_interactivity = \"all\""
      ],
      "execution_count": null,
      "outputs": []
    },
    {
      "cell_type": "code",
      "metadata": {
        "id": "IJhdHV_zzRKS",
        "outputId": "107ee313-1aac-4d6d-d021-d6f72e342c9d",
        "colab": {
          "base_uri": "https://localhost:8080/",
          "height": 111
        }
      },
      "source": [
        "#The objective of this project is to analyze Twitter Customer Support dataset leveraging NLP techniques .\n",
        "#It will primarily focus on @AppleSupport\n",
        "CST = pd.read_csv('/content/sample_data/twcs.csv', nrows = 200000,)\n",
        "CST.head(2)"
      ],
      "execution_count": null,
      "outputs": [
        {
          "output_type": "execute_result",
          "data": {
            "text/html": [
              "<div>\n",
              "<style scoped>\n",
              "    .dataframe tbody tr th:only-of-type {\n",
              "        vertical-align: middle;\n",
              "    }\n",
              "\n",
              "    .dataframe tbody tr th {\n",
              "        vertical-align: top;\n",
              "    }\n",
              "\n",
              "    .dataframe thead th {\n",
              "        text-align: right;\n",
              "    }\n",
              "</style>\n",
              "<table border=\"1\" class=\"dataframe\">\n",
              "  <thead>\n",
              "    <tr style=\"text-align: right;\">\n",
              "      <th></th>\n",
              "      <th>tweet_id</th>\n",
              "      <th>author_id</th>\n",
              "      <th>inbound</th>\n",
              "      <th>created_at</th>\n",
              "      <th>text</th>\n",
              "      <th>response_tweet_id</th>\n",
              "      <th>in_response_to_tweet_id</th>\n",
              "    </tr>\n",
              "  </thead>\n",
              "  <tbody>\n",
              "    <tr>\n",
              "      <th>0</th>\n",
              "      <td>1</td>\n",
              "      <td>sprintcare</td>\n",
              "      <td>False</td>\n",
              "      <td>Tue Oct 31 22:10:47 +0000 2017</td>\n",
              "      <td>@115712 I understand. I would like to assist y...</td>\n",
              "      <td>2</td>\n",
              "      <td>3.0</td>\n",
              "    </tr>\n",
              "    <tr>\n",
              "      <th>1</th>\n",
              "      <td>2</td>\n",
              "      <td>115712</td>\n",
              "      <td>True</td>\n",
              "      <td>Tue Oct 31 22:11:45 +0000 2017</td>\n",
              "      <td>@sprintcare and how do you propose we do that</td>\n",
              "      <td>NaN</td>\n",
              "      <td>1.0</td>\n",
              "    </tr>\n",
              "  </tbody>\n",
              "</table>\n",
              "</div>"
            ],
            "text/plain": [
              "   tweet_id   author_id  ...  response_tweet_id in_response_to_tweet_id\n",
              "0         1  sprintcare  ...                  2                     3.0\n",
              "1         2      115712  ...                NaN                     1.0\n",
              "\n",
              "[2 rows x 7 columns]"
            ]
          },
          "metadata": {
            "tags": []
          },
          "execution_count": 102
        }
      ]
    },
    {
      "cell_type": "code",
      "metadata": {
        "id": "rolV1tVvKG0v",
        "outputId": "ca5d065e-3369-482b-c0f6-b75268e40875",
        "colab": {
          "base_uri": "https://localhost:8080/",
          "height": 111
        }
      },
      "source": [
        "#Apple subset\n",
        "AppleSupport = ['AppleSupport']\n",
        "\n",
        "#Create dataframe with Apple related data point\n",
        "Apple = CST[CST['author_id'].isin(AppleSupport) | CST['text'].str.contains('AppleSupport')] \n",
        "Apple.reset_index(drop = True, inplace= True)\n",
        "\n",
        "#Check changes\n",
        "Apple.head(2)"
      ],
      "execution_count": null,
      "outputs": [
        {
          "output_type": "execute_result",
          "data": {
            "text/html": [
              "<div>\n",
              "<style scoped>\n",
              "    .dataframe tbody tr th:only-of-type {\n",
              "        vertical-align: middle;\n",
              "    }\n",
              "\n",
              "    .dataframe tbody tr th {\n",
              "        vertical-align: top;\n",
              "    }\n",
              "\n",
              "    .dataframe thead th {\n",
              "        text-align: right;\n",
              "    }\n",
              "</style>\n",
              "<table border=\"1\" class=\"dataframe\">\n",
              "  <thead>\n",
              "    <tr style=\"text-align: right;\">\n",
              "      <th></th>\n",
              "      <th>tweet_id</th>\n",
              "      <th>author_id</th>\n",
              "      <th>inbound</th>\n",
              "      <th>created_at</th>\n",
              "      <th>text</th>\n",
              "      <th>response_tweet_id</th>\n",
              "      <th>in_response_to_tweet_id</th>\n",
              "    </tr>\n",
              "  </thead>\n",
              "  <tbody>\n",
              "    <tr>\n",
              "      <th>0</th>\n",
              "      <td>696</td>\n",
              "      <td>AppleSupport</td>\n",
              "      <td>False</td>\n",
              "      <td>Tue Oct 31 22:27:49 +0000 2017</td>\n",
              "      <td>@115854 We're here for you. Which version of t...</td>\n",
              "      <td>697</td>\n",
              "      <td>698.0</td>\n",
              "    </tr>\n",
              "    <tr>\n",
              "      <th>1</th>\n",
              "      <td>697</td>\n",
              "      <td>115854</td>\n",
              "      <td>True</td>\n",
              "      <td>Tue Oct 31 22:31:23 +0000 2017</td>\n",
              "      <td>@AppleSupport The newest update. I️ made sure ...</td>\n",
              "      <td>699</td>\n",
              "      <td>696.0</td>\n",
              "    </tr>\n",
              "  </tbody>\n",
              "</table>\n",
              "</div>"
            ],
            "text/plain": [
              "   tweet_id     author_id  ...  response_tweet_id in_response_to_tweet_id\n",
              "0       696  AppleSupport  ...                697                   698.0\n",
              "1       697        115854  ...                699                   696.0\n",
              "\n",
              "[2 rows x 7 columns]"
            ]
          },
          "metadata": {
            "tags": []
          },
          "execution_count": 103
        }
      ]
    },
    {
      "cell_type": "code",
      "metadata": {
        "id": "kTd1aeu_kSTw"
      },
      "source": [
        "#Convert 'created_at' to date timestamp and create Year, Month, Day columns\n",
        "Apple['created_at'] = Apple['created_at'].astype('datetime64[ns]')\n",
        "Apple['Year'] = pd.DatetimeIndex(Apple['created_at']).year\n",
        "Apple['Month'] = pd.DatetimeIndex(Apple['created_at']).month\n",
        "Apple['Day'] =  pd.DatetimeIndex(Apple['created_at']).day\n",
        "Apple['Hour_Created'] = Apple.created_at.dt.hour\n",
        "\n",
        "#Drop 'created_at column\n",
        "Apple.drop([\"created_at\"], axis=1, inplace=True)\n",
        "\n",
        "#Change 'text' to type string\n",
        "Apple['text'] = Apple['text'].astype(str)"
      ],
      "execution_count": null,
      "outputs": []
    },
    {
      "cell_type": "code",
      "metadata": {
        "id": "ATsJCsuK23z5",
        "outputId": "32ccc3bd-cab7-4837-e21d-cb545e8cf85d",
        "colab": {
          "base_uri": "https://localhost:8080/",
          "height": 34
        }
      },
      "source": [
        "pip install emoji --upgrade"
      ],
      "execution_count": null,
      "outputs": [
        {
          "output_type": "stream",
          "text": [
            "Requirement already up-to-date: emoji in /usr/local/lib/python3.6/dist-packages (0.6.0)\n"
          ],
          "name": "stdout"
        }
      ]
    },
    {
      "cell_type": "code",
      "metadata": {
        "id": "QOQTWdYHBep1"
      },
      "source": [
        "#Function to remove twitter @handles and url's\n",
        "import re\n",
        "import emoji\n",
        "\n",
        "def preprocess(text):\n",
        "  \n",
        "  text = re.sub('(@\\S*)','', text)\n",
        "  text = re.sub('https\\S*', '', text)\n",
        "  \n",
        "  return text"
      ],
      "execution_count": null,
      "outputs": []
    },
    {
      "cell_type": "code",
      "metadata": {
        "id": "_k9wCo8yYZZh",
        "outputId": "7a11cc5f-ec3b-4f53-a4e7-227034de417a",
        "colab": {
          "base_uri": "https://localhost:8080/",
          "height": 111
        }
      },
      "source": [
        "#Check changes\n",
        "Apple.head(2)"
      ],
      "execution_count": null,
      "outputs": [
        {
          "output_type": "execute_result",
          "data": {
            "text/html": [
              "<div>\n",
              "<style scoped>\n",
              "    .dataframe tbody tr th:only-of-type {\n",
              "        vertical-align: middle;\n",
              "    }\n",
              "\n",
              "    .dataframe tbody tr th {\n",
              "        vertical-align: top;\n",
              "    }\n",
              "\n",
              "    .dataframe thead th {\n",
              "        text-align: right;\n",
              "    }\n",
              "</style>\n",
              "<table border=\"1\" class=\"dataframe\">\n",
              "  <thead>\n",
              "    <tr style=\"text-align: right;\">\n",
              "      <th></th>\n",
              "      <th>tweet_id</th>\n",
              "      <th>author_id</th>\n",
              "      <th>inbound</th>\n",
              "      <th>text</th>\n",
              "      <th>response_tweet_id</th>\n",
              "      <th>in_response_to_tweet_id</th>\n",
              "      <th>Year</th>\n",
              "      <th>Month</th>\n",
              "      <th>Day</th>\n",
              "      <th>Hour_Created</th>\n",
              "    </tr>\n",
              "  </thead>\n",
              "  <tbody>\n",
              "    <tr>\n",
              "      <th>0</th>\n",
              "      <td>696</td>\n",
              "      <td>AppleSupport</td>\n",
              "      <td>False</td>\n",
              "      <td>@115854 We're here for you. Which version of t...</td>\n",
              "      <td>697</td>\n",
              "      <td>698.0</td>\n",
              "      <td>2017</td>\n",
              "      <td>10</td>\n",
              "      <td>31</td>\n",
              "      <td>22</td>\n",
              "    </tr>\n",
              "    <tr>\n",
              "      <th>1</th>\n",
              "      <td>697</td>\n",
              "      <td>115854</td>\n",
              "      <td>True</td>\n",
              "      <td>@AppleSupport The newest update. I️ made sure ...</td>\n",
              "      <td>699</td>\n",
              "      <td>696.0</td>\n",
              "      <td>2017</td>\n",
              "      <td>10</td>\n",
              "      <td>31</td>\n",
              "      <td>22</td>\n",
              "    </tr>\n",
              "  </tbody>\n",
              "</table>\n",
              "</div>"
            ],
            "text/plain": [
              "   tweet_id     author_id  inbound  ... Month Day  Hour_Created\n",
              "0       696  AppleSupport    False  ...    10  31            22\n",
              "1       697        115854     True  ...    10  31            22\n",
              "\n",
              "[2 rows x 10 columns]"
            ]
          },
          "metadata": {
            "tags": []
          },
          "execution_count": 107
        }
      ]
    },
    {
      "cell_type": "code",
      "metadata": {
        "id": "FQhI04a3Vtxg",
        "outputId": "e0cb50cc-679f-48fe-db11-666314718d10",
        "colab": {
          "base_uri": "https://localhost:8080/",
          "height": 74
        }
      },
      "source": [
        "#Apply preprocess function\n",
        "#Create new column with clean text\n",
        "\n",
        "Apple['Clean_text'] = Apple['text'].apply(preprocess)\n",
        "\n",
        "#Convert emoji's into text\n",
        "Apple[\"Clean_text\"] = Apple['Clean_text'].apply(lambda x : emoji.demojize( x, delimiters=('', '')))\n",
        "\n",
        "#Test if emoji transformations are successful\n",
        "Apple.iloc[38 , 3]\n",
        "print('\\n')\n",
        "Apple.iloc[38 , 10]"
      ],
      "execution_count": null,
      "outputs": [
        {
          "output_type": "execute_result",
          "data": {
            "application/vnd.google.colaboratory.intrinsic+json": {
              "type": "string"
            },
            "text/plain": [
              "'@AppleSupport Okey. Thank you! 🤗'"
            ]
          },
          "metadata": {
            "tags": []
          },
          "execution_count": 108
        },
        {
          "output_type": "stream",
          "text": [
            "\n",
            "\n"
          ],
          "name": "stdout"
        },
        {
          "output_type": "execute_result",
          "data": {
            "application/vnd.google.colaboratory.intrinsic+json": {
              "type": "string"
            },
            "text/plain": [
              "' Okey. Thank you! hugging_face'"
            ]
          },
          "metadata": {
            "tags": []
          },
          "execution_count": 108
        }
      ]
    },
    {
      "cell_type": "code",
      "metadata": {
        "id": "GuuE23W0QoTf",
        "outputId": "a2d5fefd-75b8-4e30-9c19-8ac68dbb4e2f",
        "colab": {
          "base_uri": "https://localhost:8080/",
          "height": 74
        }
      },
      "source": [
        "#Test if link transformations are successful\n",
        "Apple.iloc[4 , 3]\n",
        "print('\\n')\n",
        "Apple.iloc[4 , 10]"
      ],
      "execution_count": null,
      "outputs": [
        {
          "output_type": "execute_result",
          "data": {
            "application/vnd.google.colaboratory.intrinsic+json": {
              "type": "string"
            },
            "text/plain": [
              "'@AppleSupport why are my I️’s changing not showing up correctly on any of my social media platforms? https://t.co/GyRvpyVnkE'"
            ]
          },
          "metadata": {
            "tags": []
          },
          "execution_count": 109
        },
        {
          "output_type": "stream",
          "text": [
            "\n",
            "\n"
          ],
          "name": "stdout"
        },
        {
          "output_type": "execute_result",
          "data": {
            "application/vnd.google.colaboratory.intrinsic+json": {
              "type": "string"
            },
            "text/plain": [
              "' why are my I’s changing not showing up correctly on any of my social media platforms? '"
            ]
          },
          "metadata": {
            "tags": []
          },
          "execution_count": 109
        }
      ]
    },
    {
      "cell_type": "code",
      "metadata": {
        "id": "Vis1-JctkSkU",
        "outputId": "711423ec-e541-4741-a481-1af61c120bf7",
        "colab": {
          "base_uri": "https://localhost:8080/",
          "height": 34
        }
      },
      "source": [
        "from nltk.corpus import stopwords \n",
        "\n",
        "#Count Vectorizer\n",
        "vectorizer = CountVectorizer(stop_words = 'english', min_df = 6)\n",
        "Apple_text_vectorized = vectorizer.fit_transform(Apple['Clean_text'])\n",
        "Apple_text_vectorized.shape"
      ],
      "execution_count": null,
      "outputs": [
        {
          "output_type": "execute_result",
          "data": {
            "text/plain": [
              "(10843, 1563)"
            ]
          },
          "metadata": {
            "tags": []
          },
          "execution_count": 110
        }
      ]
    },
    {
      "cell_type": "code",
      "metadata": {
        "id": "nVWLDLgTwtrI",
        "outputId": "19192681-5a6d-4ca4-9d60-9f90ae396d12",
        "colab": {
          "base_uri": "https://localhost:8080/",
          "height": 160
        }
      },
      "source": [
        "Apple_words = pd.DataFrame(Apple_text_vectorized.toarray(),columns = vectorizer.get_feature_names())\n",
        "Apple_words.head(2)"
      ],
      "execution_count": null,
      "outputs": [
        {
          "output_type": "execute_result",
          "data": {
            "text/html": [
              "<div>\n",
              "<style scoped>\n",
              "    .dataframe tbody tr th:only-of-type {\n",
              "        vertical-align: middle;\n",
              "    }\n",
              "\n",
              "    .dataframe tbody tr th {\n",
              "        vertical-align: top;\n",
              "    }\n",
              "\n",
              "    .dataframe thead th {\n",
              "        text-align: right;\n",
              "    }\n",
              "</style>\n",
              "<table border=\"1\" class=\"dataframe\">\n",
              "  <thead>\n",
              "    <tr style=\"text-align: right;\">\n",
              "      <th></th>\n",
              "      <th>000</th>\n",
              "      <th>01</th>\n",
              "      <th>02</th>\n",
              "      <th>03</th>\n",
              "      <th>10</th>\n",
              "      <th>100</th>\n",
              "      <th>11</th>\n",
              "      <th>12</th>\n",
              "      <th>13</th>\n",
              "      <th>14</th>\n",
              "      <th>15</th>\n",
              "      <th>15b202</th>\n",
              "      <th>16</th>\n",
              "      <th>20</th>\n",
              "      <th>2012</th>\n",
              "      <th>2015</th>\n",
              "      <th>2017</th>\n",
              "      <th>24</th>\n",
              "      <th>25</th>\n",
              "      <th>2nd</th>\n",
              "      <th>30</th>\n",
              "      <th>3d</th>\n",
              "      <th>3rd</th>\n",
              "      <th>3x</th>\n",
              "      <th>40</th>\n",
              "      <th>50</th>\n",
              "      <th>5am</th>\n",
              "      <th>5k</th>\n",
              "      <th>5s</th>\n",
              "      <th>60</th>\n",
              "      <th>6s</th>\n",
              "      <th>70</th>\n",
              "      <th>7plus</th>\n",
              "      <th>80</th>\n",
              "      <th>800</th>\n",
              "      <th>8pm</th>\n",
              "      <th>99</th>\n",
              "      <th>able</th>\n",
              "      <th>absolute</th>\n",
              "      <th>absolutely</th>\n",
              "      <th>...</th>\n",
              "      <th>wife</th>\n",
              "      <th>wifi</th>\n",
              "      <th>window</th>\n",
              "      <th>windows</th>\n",
              "      <th>wiped</th>\n",
              "      <th>wireless</th>\n",
              "      <th>wish</th>\n",
              "      <th>won</th>\n",
              "      <th>wonderful</th>\n",
              "      <th>wondering</th>\n",
              "      <th>wont</th>\n",
              "      <th>word</th>\n",
              "      <th>words</th>\n",
              "      <th>work</th>\n",
              "      <th>worked</th>\n",
              "      <th>working</th>\n",
              "      <th>workout</th>\n",
              "      <th>works</th>\n",
              "      <th>worries</th>\n",
              "      <th>worse</th>\n",
              "      <th>worst</th>\n",
              "      <th>worth</th>\n",
              "      <th>wouldn</th>\n",
              "      <th>wow</th>\n",
              "      <th>write</th>\n",
              "      <th>writing</th>\n",
              "      <th>wrong</th>\n",
              "      <th>wtf</th>\n",
              "      <th>ya</th>\n",
              "      <th>yea</th>\n",
              "      <th>yeah</th>\n",
              "      <th>year</th>\n",
              "      <th>years</th>\n",
              "      <th>yep</th>\n",
              "      <th>yes</th>\n",
              "      <th>yesterday</th>\n",
              "      <th>yo</th>\n",
              "      <th>youtube</th>\n",
              "      <th>yup</th>\n",
              "      <th>zero</th>\n",
              "    </tr>\n",
              "  </thead>\n",
              "  <tbody>\n",
              "    <tr>\n",
              "      <th>0</th>\n",
              "      <td>0</td>\n",
              "      <td>0</td>\n",
              "      <td>0</td>\n",
              "      <td>0</td>\n",
              "      <td>0</td>\n",
              "      <td>0</td>\n",
              "      <td>0</td>\n",
              "      <td>0</td>\n",
              "      <td>0</td>\n",
              "      <td>0</td>\n",
              "      <td>0</td>\n",
              "      <td>0</td>\n",
              "      <td>0</td>\n",
              "      <td>0</td>\n",
              "      <td>0</td>\n",
              "      <td>0</td>\n",
              "      <td>0</td>\n",
              "      <td>0</td>\n",
              "      <td>0</td>\n",
              "      <td>0</td>\n",
              "      <td>0</td>\n",
              "      <td>0</td>\n",
              "      <td>0</td>\n",
              "      <td>0</td>\n",
              "      <td>0</td>\n",
              "      <td>0</td>\n",
              "      <td>0</td>\n",
              "      <td>0</td>\n",
              "      <td>0</td>\n",
              "      <td>0</td>\n",
              "      <td>0</td>\n",
              "      <td>0</td>\n",
              "      <td>0</td>\n",
              "      <td>0</td>\n",
              "      <td>0</td>\n",
              "      <td>0</td>\n",
              "      <td>0</td>\n",
              "      <td>0</td>\n",
              "      <td>0</td>\n",
              "      <td>0</td>\n",
              "      <td>...</td>\n",
              "      <td>0</td>\n",
              "      <td>0</td>\n",
              "      <td>0</td>\n",
              "      <td>0</td>\n",
              "      <td>0</td>\n",
              "      <td>0</td>\n",
              "      <td>0</td>\n",
              "      <td>0</td>\n",
              "      <td>0</td>\n",
              "      <td>0</td>\n",
              "      <td>0</td>\n",
              "      <td>0</td>\n",
              "      <td>0</td>\n",
              "      <td>0</td>\n",
              "      <td>0</td>\n",
              "      <td>0</td>\n",
              "      <td>0</td>\n",
              "      <td>0</td>\n",
              "      <td>0</td>\n",
              "      <td>0</td>\n",
              "      <td>0</td>\n",
              "      <td>0</td>\n",
              "      <td>0</td>\n",
              "      <td>0</td>\n",
              "      <td>0</td>\n",
              "      <td>0</td>\n",
              "      <td>0</td>\n",
              "      <td>0</td>\n",
              "      <td>0</td>\n",
              "      <td>0</td>\n",
              "      <td>0</td>\n",
              "      <td>0</td>\n",
              "      <td>0</td>\n",
              "      <td>0</td>\n",
              "      <td>0</td>\n",
              "      <td>0</td>\n",
              "      <td>0</td>\n",
              "      <td>0</td>\n",
              "      <td>0</td>\n",
              "      <td>0</td>\n",
              "    </tr>\n",
              "    <tr>\n",
              "      <th>1</th>\n",
              "      <td>0</td>\n",
              "      <td>0</td>\n",
              "      <td>0</td>\n",
              "      <td>0</td>\n",
              "      <td>0</td>\n",
              "      <td>0</td>\n",
              "      <td>0</td>\n",
              "      <td>0</td>\n",
              "      <td>0</td>\n",
              "      <td>0</td>\n",
              "      <td>0</td>\n",
              "      <td>0</td>\n",
              "      <td>0</td>\n",
              "      <td>0</td>\n",
              "      <td>0</td>\n",
              "      <td>0</td>\n",
              "      <td>0</td>\n",
              "      <td>0</td>\n",
              "      <td>0</td>\n",
              "      <td>0</td>\n",
              "      <td>0</td>\n",
              "      <td>0</td>\n",
              "      <td>0</td>\n",
              "      <td>0</td>\n",
              "      <td>0</td>\n",
              "      <td>0</td>\n",
              "      <td>0</td>\n",
              "      <td>0</td>\n",
              "      <td>0</td>\n",
              "      <td>0</td>\n",
              "      <td>0</td>\n",
              "      <td>0</td>\n",
              "      <td>0</td>\n",
              "      <td>0</td>\n",
              "      <td>0</td>\n",
              "      <td>0</td>\n",
              "      <td>0</td>\n",
              "      <td>0</td>\n",
              "      <td>0</td>\n",
              "      <td>0</td>\n",
              "      <td>...</td>\n",
              "      <td>0</td>\n",
              "      <td>0</td>\n",
              "      <td>0</td>\n",
              "      <td>0</td>\n",
              "      <td>0</td>\n",
              "      <td>0</td>\n",
              "      <td>0</td>\n",
              "      <td>0</td>\n",
              "      <td>0</td>\n",
              "      <td>0</td>\n",
              "      <td>0</td>\n",
              "      <td>0</td>\n",
              "      <td>0</td>\n",
              "      <td>0</td>\n",
              "      <td>0</td>\n",
              "      <td>0</td>\n",
              "      <td>0</td>\n",
              "      <td>0</td>\n",
              "      <td>0</td>\n",
              "      <td>0</td>\n",
              "      <td>0</td>\n",
              "      <td>0</td>\n",
              "      <td>0</td>\n",
              "      <td>0</td>\n",
              "      <td>0</td>\n",
              "      <td>0</td>\n",
              "      <td>0</td>\n",
              "      <td>0</td>\n",
              "      <td>0</td>\n",
              "      <td>0</td>\n",
              "      <td>0</td>\n",
              "      <td>0</td>\n",
              "      <td>0</td>\n",
              "      <td>0</td>\n",
              "      <td>0</td>\n",
              "      <td>1</td>\n",
              "      <td>0</td>\n",
              "      <td>0</td>\n",
              "      <td>0</td>\n",
              "      <td>0</td>\n",
              "    </tr>\n",
              "  </tbody>\n",
              "</table>\n",
              "<p>2 rows × 1563 columns</p>\n",
              "</div>"
            ],
            "text/plain": [
              "   000  01  02  03  10  100  11  ...  yep  yes  yesterday  yo  youtube  yup  zero\n",
              "0    0   0   0   0   0    0   0  ...    0    0          0   0        0    0     0\n",
              "1    0   0   0   0   0    0   0  ...    0    0          1   0        0    0     0\n",
              "\n",
              "[2 rows x 1563 columns]"
            ]
          },
          "metadata": {
            "tags": []
          },
          "execution_count": 111
        }
      ]
    },
    {
      "cell_type": "code",
      "metadata": {
        "id": "Uw7PMBTRvA1n",
        "outputId": "7d6d097b-ccbf-4899-ef47-265146e79d92",
        "colab": {
          "base_uri": "https://localhost:8080/",
          "height": 316
        }
      },
      "source": [
        "#Creating a randomized_svd\n",
        "from sklearn.utils.extmath import randomized_svd\n",
        "\n",
        "U, Sigma, VT = randomized_svd(Apple_text_vectorized, n_components=15,\n",
        "                                      n_iter=5,\n",
        "                                      random_state=None)\n",
        "\n",
        "#Sigma array\n",
        "Sigma\n",
        "\n",
        "#Plot Sigma results\n",
        "plt.plot(range(1,16),Sigma)\n",
        "plt.show()"
      ],
      "execution_count": null,
      "outputs": [
        {
          "output_type": "execute_result",
          "data": {
            "text/plain": [
              "array([88.4938773 , 59.06029992, 49.20291153, 46.04864525, 43.76399491,\n",
              "       43.10363088, 37.58025842, 33.98098138, 32.14924766, 31.72186044,\n",
              "       31.15070468, 30.62098787, 30.57914595, 29.21375867, 28.35684205])"
            ]
          },
          "metadata": {
            "tags": []
          },
          "execution_count": 112
        },
        {
          "output_type": "execute_result",
          "data": {
            "text/plain": [
              "[<matplotlib.lines.Line2D at 0x7f141f9e9a58>]"
            ]
          },
          "metadata": {
            "tags": []
          },
          "execution_count": 112
        },
        {
          "output_type": "display_data",
          "data": {
            "image/png": "[encoded data removed]",
            "text/plain": [
              "<Figure size 432x288 with 1 Axes>"
            ]
          },
          "metadata": {
            "tags": [],
            "needs_background": "light"
          }
        }
      ]
    },
    {
      "cell_type": "code",
      "metadata": {
        "id": "kPAenatGkS1W"
      },
      "source": [
        "#NMF topic model\n",
        "from sklearn.decomposition import NMF\n",
        "\n",
        "#Creating model for 8 topics\n",
        "nmf_model = NMF(8)\n",
        "Apple_topics = nmf_model.fit_transform(Apple_text_vectorized)"
      ],
      "execution_count": null,
      "outputs": []
    },
    {
      "cell_type": "code",
      "metadata": {
        "id": "ZQyJ08CrA6sD",
        "outputId": "30a03822-9092-4701-f228-af9143a0aab5",
        "colab": {
          "base_uri": "https://localhost:8080/",
          "height": 153
        }
      },
      "source": [
        "#Arg sort on components\n",
        "words = vectorizer.get_feature_names()\n",
        "\n",
        "t = nmf_model.components_.argsort(axis=1)[:,-1:-8:-1]\n",
        "topic_words = [[words[e] for e in l] for l in t]\n",
        "topic_words"
      ],
      "execution_count": null,
      "outputs": [
        {
          "output_type": "execute_result",
          "data": {
            "text/plain": [
              "[['dm', 'll', 'look', 'send', 'like', 'continue', 'happy'],\n",
              " ['gt', 'version', 'settings', 'general', 'ios', 'running', 'check'],\n",
              " ['ios', '11', 'version', 'updated', 'battery', 'device', 'running'],\n",
              " ['help', 'want', 'support', 'like', 'device', 'happy', 'twitter'],\n",
              " ['let', 'know', 'dm', 'steps', 'device', 'issue', 'using'],\n",
              " ['iphone', 'battery', 'new', 'using', 'want', '6s', 'plus'],\n",
              " ['update', 'phone', 'new', 'just', 'issue', 've', 'battery'],\n",
              " ['apple', 'music', 'app', 'thanks', 'store', 'just', 'watch']]"
            ]
          },
          "metadata": {
            "tags": []
          },
          "execution_count": 115
        }
      ]
    },
    {
      "cell_type": "code",
      "metadata": {
        "id": "kGQdzv4oB3uy"
      },
      "source": [
        "#Function to label topics\n",
        "def display_topics(model, feature_names, no_top_words, topic_names= ['Apple Resolution Attempts','iOS Status','Functionality Inquiries','Communication Preference','Troubleshoot','iPhone Support','General Inquiries','Application Support']):\n",
        "    for ix, topic in enumerate(model.components_):\n",
        "        if not topic_names or not topic_names[ix]:\n",
        "            print(\"\\nTopic \", ix)\n",
        "        else:\n",
        "            print(\"\\nTopic: '\",topic_names[ix],\"'\")\n",
        "        print(\", \".join([feature_names[i]\n",
        "                        for i in topic.argsort()[:-no_top_words - 1:-1]]))"
      ],
      "execution_count": null,
      "outputs": []
    },
    {
      "cell_type": "code",
      "metadata": {
        "id": "auTtqq4fFag8",
        "outputId": "36cdb113-5269-4381-8bcb-02ca6fc6989e",
        "colab": {
          "base_uri": "https://localhost:8080/",
          "height": 445
        }
      },
      "source": [
        "#Display topics with respective words\n",
        "display_topics(nmf_model, vectorizer.get_feature_names(), 30)"
      ],
      "execution_count": null,
      "outputs": [
        {
          "output_type": "stream",
          "text": [
            "\n",
            "Topic: ' Apple Resolution Attempts '\n",
            "dm, ll, look, send, like, continue, happy, thanks, started, meet, details, country, closer, link, reaching, using, version, reach, information, issue, assist, want, work, working, located, options, going, ve, experiencing, thank\n",
            "\n",
            "Topic: ' iOS Status '\n",
            "gt, version, settings, general, ios, running, check, using, currently, installed, device, software, tell, happy, exact, start, tap, look, want, keyboard, going, assist, locate, tapping, sure, love, current, make, apps, reset\n",
            "\n",
            "Topic: ' Functionality Inquiries '\n",
            "ios, 11, version, updated, battery, device, running, updating, using, issue, currently, installed, released, 10, latest, fix, 6s, life, started, ipad, issues, current, recently, wi, sure, fi, bluetooth, exact, control, bug\n",
            "\n",
            "Topic: ' Communication Preference '\n",
            "help, want, support, like, device, happy, twitter, english, offer, love, version, contact, tell, join, start, need, using, issues, language, article, preferred, steps, issue, having, reaching, spanish, reach, installed, hi, experiencing\n",
            "\n",
            "Topic: ' Troubleshoot '\n",
            "let, know, dm, steps, device, issue, using, try, check, article, issues, work, able, message, sure, helps, important, start, glad, thanks, persists, updating, great, direct, installed, app, questions, backup, ahead, letting\n",
            "\n",
            "Topic: ' iPhone Support '\n",
            "iphone, battery, new, using, want, 6s, plus, does, working, use, work, model, screen, happening, going, version, ve, did, life, able, important, start, restarting, started, tried, restore, make, apps, amp, restart\n",
            "\n",
            "Topic: ' General Inquiries '\n",
            "update, phone, new, just, issue, ve, battery, fix, apps, software, latest, time, amp, backup, got, released, screen, work, did, having, like, ios11, check, try, issues, make, device, don, keeps, itunes\n",
            "\n",
            "Topic: ' Application Support '\n",
            "apple, music, app, thanks, store, just, watch, id, does, reaching, time, apps, itunes, using, issue, use, work, like, screen, try, phone, want, account, support, icloud, open, library, don, ve, tv\n"
          ],
          "name": "stdout"
        }
      ]
    },
    {
      "cell_type": "code",
      "metadata": {
        "id": "-n_dwyPkGgft",
        "outputId": "6d759916-de4b-48fa-fbe0-9a1cfcd89690",
        "colab": {
          "base_uri": "https://localhost:8080/",
          "height": 230
        }
      },
      "source": [
        "#Loop through list components for topics\n",
        "Topic_list = ['Apple Resolution Attempts','iOS Status','Functionality Inquiries','Communication Preference','Troubleshoot','iPhone Support','General Inquiries','Application Support']\n",
        "Apple['topics'] = [Topic_list[i] for i in Apple_topics.argmax(axis = 1)]\n",
        "Apple.head(2)"
      ],
      "execution_count": null,
      "outputs": [
        {
          "output_type": "execute_result",
          "data": {
            "text/html": [
              "<div>\n",
              "<style scoped>\n",
              "    .dataframe tbody tr th:only-of-type {\n",
              "        vertical-align: middle;\n",
              "    }\n",
              "\n",
              "    .dataframe tbody tr th {\n",
              "        vertical-align: top;\n",
              "    }\n",
              "\n",
              "    .dataframe thead th {\n",
              "        text-align: right;\n",
              "    }\n",
              "</style>\n",
              "<table border=\"1\" class=\"dataframe\">\n",
              "  <thead>\n",
              "    <tr style=\"text-align: right;\">\n",
              "      <th></th>\n",
              "      <th>tweet_id</th>\n",
              "      <th>author_id</th>\n",
              "      <th>inbound</th>\n",
              "      <th>text</th>\n",
              "      <th>response_tweet_id</th>\n",
              "      <th>in_response_to_tweet_id</th>\n",
              "      <th>Year</th>\n",
              "      <th>Month</th>\n",
              "      <th>Day</th>\n",
              "      <th>Hour_Created</th>\n",
              "      <th>Clean_text</th>\n",
              "      <th>topics</th>\n",
              "    </tr>\n",
              "  </thead>\n",
              "  <tbody>\n",
              "    <tr>\n",
              "      <th>0</th>\n",
              "      <td>696</td>\n",
              "      <td>AppleSupport</td>\n",
              "      <td>False</td>\n",
              "      <td>@115854 We're here for you. Which version of t...</td>\n",
              "      <td>697</td>\n",
              "      <td>698.0</td>\n",
              "      <td>2017</td>\n",
              "      <td>10</td>\n",
              "      <td>31</td>\n",
              "      <td>22</td>\n",
              "      <td>We're here for you. Which version of the iOS ...</td>\n",
              "      <td>iOS Status</td>\n",
              "    </tr>\n",
              "    <tr>\n",
              "      <th>1</th>\n",
              "      <td>697</td>\n",
              "      <td>115854</td>\n",
              "      <td>True</td>\n",
              "      <td>@AppleSupport The newest update. I️ made sure ...</td>\n",
              "      <td>699</td>\n",
              "      <td>696.0</td>\n",
              "      <td>2017</td>\n",
              "      <td>10</td>\n",
              "      <td>31</td>\n",
              "      <td>22</td>\n",
              "      <td>The newest update. I made sure to download it...</td>\n",
              "      <td>General Inquiries</td>\n",
              "    </tr>\n",
              "  </tbody>\n",
              "</table>\n",
              "</div>"
            ],
            "text/plain": [
              "   tweet_id  ...             topics\n",
              "0       696  ...         iOS Status\n",
              "1       697  ...  General Inquiries\n",
              "\n",
              "[2 rows x 12 columns]"
            ]
          },
          "metadata": {
            "tags": []
          },
          "execution_count": 118
        }
      ]
    },
    {
      "cell_type": "code",
      "metadata": {
        "id": "z305_vWx25p9",
        "outputId": "16526cdd-7934-428d-de51-7922df466688",
        "colab": {
          "base_uri": "https://localhost:8080/",
          "height": 139
        }
      },
      "source": [
        "pip install vaderSentiment"
      ],
      "execution_count": null,
      "outputs": [
        {
          "output_type": "stream",
          "text": [
            "Requirement already satisfied: vaderSentiment in /usr/local/lib/python3.6/dist-packages (3.3.2)\n",
            "Requirement already satisfied: requests in /usr/local/lib/python3.6/dist-packages (from vaderSentiment) (2.23.0)\n",
            "Requirement already satisfied: idna<3,>=2.5 in /usr/local/lib/python3.6/dist-packages (from requests->vaderSentiment) (2.10)\n",
            "Requirement already satisfied: urllib3!=1.25.0,!=1.25.1,<1.26,>=1.21.1 in /usr/local/lib/python3.6/dist-packages (from requests->vaderSentiment) (1.24.3)\n",
            "Requirement already satisfied: certifi>=2017.4.17 in /usr/local/lib/python3.6/dist-packages (from requests->vaderSentiment) (2020.6.20)\n",
            "Requirement already satisfied: chardet<4,>=3.0.2 in /usr/local/lib/python3.6/dist-packages (from requests->vaderSentiment) (3.0.4)\n"
          ],
          "name": "stdout"
        }
      ]
    },
    {
      "cell_type": "code",
      "metadata": {
        "id": "U2tIULHT27Dj"
      },
      "source": [
        "#Create sentiment analysis\n",
        "from vaderSentiment.vaderSentiment import SentimentIntensityAnalyzer\n",
        "\n",
        "analyzer = SentimentIntensityAnalyzer()\n",
        "\n",
        "Apple['Sentiment'] = Apple['Clean_text'].apply(lambda Text: analyzer.polarity_scores(Text))"
      ],
      "execution_count": null,
      "outputs": []
    },
    {
      "cell_type": "code",
      "metadata": {
        "id": "VXMAKAuYPiGg"
      },
      "source": [
        "#Create respective sentiment columns\n",
        "Apple['Sentiment_negative'] = Apple['Sentiment'].apply(lambda x: x['neg'])\n",
        "Apple['Sentiment_neutral'] = Apple['Sentiment'].apply(lambda x: x['neu'])\n",
        "Apple['Sentiment_positive'] = Apple['Sentiment'].apply(lambda x: x['pos'])\n",
        "Apple['Sentiment_compound'] = Apple['Sentiment'].apply(lambda x: x['compound'])"
      ],
      "execution_count": null,
      "outputs": []
    },
    {
      "cell_type": "code",
      "metadata": {
        "id": "CnPIE3ef9vGR",
        "outputId": "ea4cab0e-5746-4301-c028-ee6bfcc832d3",
        "colab": {
          "base_uri": "https://localhost:8080/",
          "height": 431
        }
      },
      "source": [
        "#Drop null values\n",
        "Apple.dropna(inplace=True)\n",
        "\n",
        "#Check changes\n",
        "Apple.head(4)"
      ],
      "execution_count": null,
      "outputs": [
        {
          "output_type": "execute_result",
          "data": {
            "text/html": [
              "<div>\n",
              "<style scoped>\n",
              "    .dataframe tbody tr th:only-of-type {\n",
              "        vertical-align: middle;\n",
              "    }\n",
              "\n",
              "    .dataframe tbody tr th {\n",
              "        vertical-align: top;\n",
              "    }\n",
              "\n",
              "    .dataframe thead th {\n",
              "        text-align: right;\n",
              "    }\n",
              "</style>\n",
              "<table border=\"1\" class=\"dataframe\">\n",
              "  <thead>\n",
              "    <tr style=\"text-align: right;\">\n",
              "      <th></th>\n",
              "      <th>tweet_id</th>\n",
              "      <th>author_id</th>\n",
              "      <th>inbound</th>\n",
              "      <th>text</th>\n",
              "      <th>response_tweet_id</th>\n",
              "      <th>in_response_to_tweet_id</th>\n",
              "      <th>Year</th>\n",
              "      <th>Month</th>\n",
              "      <th>Day</th>\n",
              "      <th>Hour_Created</th>\n",
              "      <th>Clean_text</th>\n",
              "      <th>topics</th>\n",
              "      <th>Sentiment</th>\n",
              "      <th>Sentiment_negative</th>\n",
              "      <th>Sentiment_neutral</th>\n",
              "      <th>Sentiment_positive</th>\n",
              "      <th>Sentiment_compound</th>\n",
              "    </tr>\n",
              "  </thead>\n",
              "  <tbody>\n",
              "    <tr>\n",
              "      <th>0</th>\n",
              "      <td>696</td>\n",
              "      <td>AppleSupport</td>\n",
              "      <td>False</td>\n",
              "      <td>@115854 We're here for you. Which version of t...</td>\n",
              "      <td>697</td>\n",
              "      <td>698.0</td>\n",
              "      <td>2017</td>\n",
              "      <td>10</td>\n",
              "      <td>31</td>\n",
              "      <td>22</td>\n",
              "      <td>We're here for you. Which version of the iOS ...</td>\n",
              "      <td>iOS Status</td>\n",
              "      <td>{'neg': 0.0, 'neu': 1.0, 'pos': 0.0, 'compound...</td>\n",
              "      <td>0.0</td>\n",
              "      <td>1.000</td>\n",
              "      <td>0.000</td>\n",
              "      <td>0.0000</td>\n",
              "    </tr>\n",
              "    <tr>\n",
              "      <th>1</th>\n",
              "      <td>697</td>\n",
              "      <td>115854</td>\n",
              "      <td>True</td>\n",
              "      <td>@AppleSupport The newest update. I️ made sure ...</td>\n",
              "      <td>699</td>\n",
              "      <td>696.0</td>\n",
              "      <td>2017</td>\n",
              "      <td>10</td>\n",
              "      <td>31</td>\n",
              "      <td>22</td>\n",
              "      <td>The newest update. I made sure to download it...</td>\n",
              "      <td>General Inquiries</td>\n",
              "      <td>{'neg': 0.0, 'neu': 0.796, 'pos': 0.204, 'comp...</td>\n",
              "      <td>0.0</td>\n",
              "      <td>0.796</td>\n",
              "      <td>0.204</td>\n",
              "      <td>0.3182</td>\n",
              "    </tr>\n",
              "    <tr>\n",
              "      <th>3</th>\n",
              "      <td>698</td>\n",
              "      <td>115854</td>\n",
              "      <td>True</td>\n",
              "      <td>@AppleSupport  https://t.co/NV0yucs0lB</td>\n",
              "      <td>696</td>\n",
              "      <td>700.0</td>\n",
              "      <td>2017</td>\n",
              "      <td>10</td>\n",
              "      <td>31</td>\n",
              "      <td>22</td>\n",
              "      <td></td>\n",
              "      <td>Apple Resolution Attempts</td>\n",
              "      <td>{'neg': 0.0, 'neu': 0.0, 'pos': 0.0, 'compound...</td>\n",
              "      <td>0.0</td>\n",
              "      <td>0.000</td>\n",
              "      <td>0.000</td>\n",
              "      <td>0.0000</td>\n",
              "    </tr>\n",
              "    <tr>\n",
              "      <th>6</th>\n",
              "      <td>702</td>\n",
              "      <td>115855</td>\n",
              "      <td>True</td>\n",
              "      <td>@AppleSupport Tried resetting my settings .. r...</td>\n",
              "      <td>701</td>\n",
              "      <td>703.0</td>\n",
              "      <td>2017</td>\n",
              "      <td>10</td>\n",
              "      <td>31</td>\n",
              "      <td>22</td>\n",
              "      <td>Tried resetting my settings .. restarting my ...</td>\n",
              "      <td>General Inquiries</td>\n",
              "      <td>{'neg': 0.0, 'neu': 1.0, 'pos': 0.0, 'compound...</td>\n",
              "      <td>0.0</td>\n",
              "      <td>1.000</td>\n",
              "      <td>0.000</td>\n",
              "      <td>0.0000</td>\n",
              "    </tr>\n",
              "  </tbody>\n",
              "</table>\n",
              "</div>"
            ],
            "text/plain": [
              "   tweet_id     author_id  ...  Sentiment_positive Sentiment_compound\n",
              "0       696  AppleSupport  ...               0.000             0.0000\n",
              "1       697        115854  ...               0.204             0.3182\n",
              "3       698        115854  ...               0.000             0.0000\n",
              "6       702        115855  ...               0.000             0.0000\n",
              "\n",
              "[4 rows x 17 columns]"
            ]
          },
          "metadata": {
            "tags": []
          },
          "execution_count": 129
        }
      ]
    },
    {
      "cell_type": "code",
      "metadata": {
        "id": "Uj_47m1ym0sq"
      },
      "source": [
        "#Excel export to create Tableau dashboard\n",
        "Apple.to_excel(\"Apple_tweets.xlsx\",\n",
        "              sheet_name='Apple_tweets')"
      ],
      "execution_count": null,
      "outputs": []
    },
    {
      "cell_type": "code",
      "metadata": {
        "id": "fLj2C-_mykPh",
        "outputId": "633bca91-1dca-434d-ae84-2f04586c03a1",
        "colab": {
          "base_uri": "https://localhost:8080/",
          "height": 326
        }
      },
      "source": [
        "pip install scattertext"
      ],
      "execution_count": null,
      "outputs": [
        {
          "output_type": "stream",
          "text": [
            "Collecting scattertext\n",
            "\u001b[?25l  Downloading https://files.pythonhosted.org/packages/cb/37/91ec1364e2dcad09d917415112430b55a77544bde87d383557dfbfc56d08/scattertext-0.0.2.67-py3-none-any.whl (7.2MB)\n",
            "\u001b[K     |████████████████████████████████| 7.2MB 2.8MB/s \n",
            "\u001b[?25hRequirement already satisfied: six in /usr/local/lib/python3.6/dist-packages (from scattertext) (1.15.0)\n",
            "Requirement already satisfied: scipy in /usr/local/lib/python3.6/dist-packages (from scattertext) (1.4.1)\n",
            "Requirement already satisfied: statsmodels in /usr/local/lib/python3.6/dist-packages (from scattertext) (0.10.2)\n",
            "Requirement already satisfied: scikit-learn in /usr/local/lib/python3.6/dist-packages (from scattertext) (0.22.2.post1)\n",
            "Requirement already satisfied: pandas in /usr/local/lib/python3.6/dist-packages (from scattertext) (1.0.5)\n",
            "Collecting mock\n",
            "  Downloading https://files.pythonhosted.org/packages/cd/74/d72daf8dff5b6566db857cfd088907bb0355f5dd2914c4b3ef065c790735/mock-4.0.2-py3-none-any.whl\n",
            "Requirement already satisfied: numpy in /usr/local/lib/python3.6/dist-packages (from scattertext) (1.18.5)\n",
            "Requirement already satisfied: patsy>=0.4.0 in /usr/local/lib/python3.6/dist-packages (from statsmodels->scattertext) (0.5.1)\n",
            "Requirement already satisfied: joblib>=0.11 in /usr/local/lib/python3.6/dist-packages (from scikit-learn->scattertext) (0.16.0)\n",
            "Requirement already satisfied: python-dateutil>=2.6.1 in /usr/local/lib/python3.6/dist-packages (from pandas->scattertext) (2.8.1)\n",
            "Requirement already satisfied: pytz>=2017.2 in /usr/local/lib/python3.6/dist-packages (from pandas->scattertext) (2018.9)\n",
            "Installing collected packages: mock, scattertext\n",
            "Successfully installed mock-4.0.2 scattertext-0.0.2.67\n"
          ],
          "name": "stdout"
        }
      ]
    },
    {
      "cell_type": "code",
      "metadata": {
        "id": "s6tCo0jNxjYJ"
      },
      "source": [
        "#Building scattertext\n",
        "import scattertext as st\n",
        "\n",
        "corpus = st.CorpusFromPandas(Apple,\n",
        "                             category_col='author_id',\n",
        "                             text_col= 'Clean_text',\n",
        "                             nlp=st.whitespace_nlp_with_sentences\n",
        "                            ).build()"
      ],
      "execution_count": null,
      "outputs": []
    },
    {
      "cell_type": "code",
      "metadata": {
        "id": "Julhvhqcxosq"
      },
      "source": [
        "#Generate url for scattertext\n",
        "html = st.produce_scattertext_explorer(\n",
        "        corpus,\n",
        "        category='AppleSupport',\n",
        "        category_name='AppleSupport',\n",
        "        not_category_name='Customer Inquires',\n",
        "        minimum_term_frequency=10,\n",
        "        pmi_threshold_coefficient=5,\n",
        "        width_in_pixels=1000\n",
        "        )\n",
        "\n",
        "open('Apple.html', 'wb').write(html.encode('utf-8'));"
      ],
      "execution_count": null,
      "outputs": []
    }
  ]
}